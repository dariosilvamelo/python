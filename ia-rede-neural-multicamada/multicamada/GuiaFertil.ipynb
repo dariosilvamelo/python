{
 "cells": [
  {
   "attachments": {},
   "cell_type": "markdown",
   "id": "c94e9260",
   "metadata": {},
   "source": [
    "![logo do programa](http://www.ppgaig.iciag.ufu.br/sites/ppgaig.iciag.ufu.br/files/imagens/logo-ppgaig.png)"
   ]
  },
  {
   "attachments": {},
   "cell_type": "markdown",
   "id": "3b0ba4a7",
   "metadata": {},
   "source": [
    "<b><center> PREDIÇÃO DA PRODUTIVIDADE DE SOJA OBTIDO POR TÉCNICAS DE REDES NEURAIS MULTICAMADAS E RECOMENDAÇÃO DE ADUBAÇÃO E CALAGEM NA REGIÃO DO ALTO PARANAIBA-MG </center></b>\n",
    "<br></br>\n",
    "\n",
    "Instituição: Universidade Federal de Uberlândia (UFU).\n",
    "\n",
    "Disciplina: Mineração de dados.\n",
    "\n",
    "Docente: Prof. Dr. Murillo Guimarães Carneiro.\n",
    "\n",
    "Discente:  Dário da Silva Melo.\n",
    "\n",
    "Curso: Mestrado Acadêmico em Agricultura e Informações Geoespaciais\n",
    "\n",
    "<br></br>\n",
    "<b><center>MONTE CARMELO-MG</center></b>\n",
    "<b><center>2023</center></b>\n",
    "\n",
    "<br></br>\n",
    "<b><center>Rede Neural Artificial desenvolvida em linguagem Python.</center></b>\n",
    "<br></br>"
   ]
  },
  {
   "cell_type": "code",
   "execution_count": null,
   "id": "6595c50f",
   "metadata": {},
   "outputs": [],
   "source": [
    "from sklearn import preprocessing\n",
    "import numpy as np\n"
   ]
  },
  {
   "attachments": {},
   "cell_type": "markdown",
   "id": "127e5b42",
   "metadata": {},
   "source": [
    "Biblioteca do python para trabalhar com processamento científico."
   ]
  },
  {
   "cell_type": "code",
   "execution_count": 7,
   "id": "be6cd98b",
   "metadata": {},
   "outputs": [],
   "source": [
    "def sigmoid(soma):\n",
    "    return 1 / (1 + np.exp(-soma))"
   ]
  },
  {
   "attachments": {},
   "cell_type": "markdown",
   "id": "d78bfcbc",
   "metadata": {},
   "source": [
    "É a função que ativa o neurônio.\n",
    "\n",
    "Função sigmoide: y = 1 / (1 + e ^ -x)\n",
    "\n",
    "e = número de Euler = 2.718281828459045\n",
    "\n",
    "x = soma ( somatório dos produtos entre os dados de entrada e o seu peso).\n",
    "\n",
    "np.exp é a função exponecial do numpy que eleva o numero de Euler (e) a \"-x\"(soma).\n",
    "\n",
    "A função sigmoide retorna valores entre 0 e 1 (não retorna valores negativos).\n",
    "\n",
    "Se x for alto o valor será aproximadamente 1.\n",
    "\n",
    "Se x for pequeno o valor será aproximadamente 0."
   ]
  },
  {
   "cell_type": "code",
   "execution_count": 3,
   "id": "e2780327",
   "metadata": {},
   "outputs": [],
   "source": [
    "def derivadaParcial(valor_sigmoide):\n",
    "    return valor_sigmoide * ( 1 - valor_sigmoide )"
   ]
  },
  {
   "attachments": {},
   "cell_type": "markdown",
   "id": "9c8e2d29",
   "metadata": {},
   "source": [
    "A função tem como objetivo calcular o declive da curva do erro, mostrando a melhor orienção a seguir para ajustar os pesos e diminuir o erro na rede neural (atigir o mínimo global)\n",
    "\n",
    "sigmoide: y = 1 / (1 + e ^ -x)\n",
    "\n",
    "derivada: d = y * (1 - y)"
   ]
  },
  {
   "cell_type": "code",
   "execution_count": 97,
   "id": "3e765da5",
   "metadata": {},
   "outputs": [],
   "source": [
    "entradas = np.array([[0,0], [0,1], [1,0], [1,1]])\n",
    "respostas_esperadas = np.array([[0],[1],[1],[0]])"
   ]
  },
  {
   "attachments": {},
   "cell_type": "markdown",
   "id": "7527b201",
   "metadata": {},
   "source": [
    "A variavel \"entrada\" (matriz) contém os dados de entrada \"x1\" e \"x2\". A variaval \"resposta_esperada\" (matriz) é valor da \"classe\" para determinado dado de entrada  \"x1\" e \"x2\".\n",
    "\n",
    "|x1 x2| -> classe\n",
    "<BR>| 0 0 | -> 0</BR>\n",
    "| 0 1 | -> 1\n",
    "<BR>| 1 0 | -> 1</BR>\n",
    "| 1 1 | -> 0"
   ]
  },
  {
   "cell_type": "code",
   "execution_count": 98,
   "id": "b127ad39",
   "metadata": {},
   "outputs": [],
   "source": [
    "pesos_x1_x2 = np.array([[-0.424,-0.740,-0.961], [0.358,-0.577,-0.469]])"
   ]
  },
  {
   "attachments": {},
   "cell_type": "markdown",
   "id": "0e10aaca",
   "metadata": {},
   "source": [
    "A variavel \"pesos_x1_x2\" (matriz) contém os pesos de ligação das variaveis \"x1\" e \"x2\" para os neurônios da camada oculta. Os valores inicais de pesos (W) foram obtidos de forma aleatória.\n",
    "\n",
    "x1 ------(sinapse/peso W ( x1, neurônio 01 = w11 = -0.424)------>\n",
    "<BR>x1 ------(sinapse/peso W ( x1, neurônio 02 = w12 = -0.740)------></BR>\n",
    "x1-------(sinapse/peso W ( x1, neurônio 03 = w13 = -0.961)------>\n",
    "\n",
    "x2 ------(sinapse/peso W ( x2, neurônio 01 = w21 = 0.358)------>\n",
    "<BR>x2 ------(sinapse/peso W( x2, neurônio 02 = w22 = -0.577)------></BR>\n",
    "x2-------(sinapse/peso W( x2, neurônio 03 = w23 = -0.469)------>\n"
   ]
  },
  {
   "cell_type": "code",
   "execution_count": 99,
   "id": "05c03d35",
   "metadata": {},
   "outputs": [],
   "source": [
    "pesos_neuronio_camada = np.array([[-0.017],[-0.893],[0.148]])"
   ]
  },
  {
   "attachments": {},
   "cell_type": "markdown",
   "id": "cd72bafc",
   "metadata": {},
   "source": [
    "A variavel \"pesos_neuronio_camada\" (matriz) contém os pesos (W) de ligação dos neurônios da camada oculta para o neurônio de saída.\n",
    "\n",
    "neurônio 01 ------(sinapse/peso W ( neurônio 01, neurônio de saída = w1s = -0.017)------>\n",
    "<BR>neurônio 02 ------(sinapse/peso W ( neurônio 02, neurônio de saída = w2s = -0.893)------></BR>\n",
    "neurônio 03 ------(sinapse/peso W ( neurônio 03, neurônio de saída = w3s = 0.148)------>"
   ]
  },
  {
   "cell_type": "code",
   "execution_count": 141,
   "id": "9d5825a2",
   "metadata": {},
   "outputs": [],
   "source": [
    "pesos0 = 2*np.random.random((2,3)) - 1\n",
    "pesos1 = 2*np.random.random((3,1)) - 1\n",
    "\n",
    "momento = 1\n",
    "taxa_aprendizagem = 0.3"
   ]
  },
  {
   "attachments": {},
   "cell_type": "markdown",
   "id": "84a71876",
   "metadata": {},
   "source": [
    "Utilidade da variavel \"momento\":\n",
    "\n",
    "Escapar de mínimos locais (nem sempre funciona)\n",
    "\n",
    "Define o quão confiável é a última alteração\n",
    "\n",
    "Alto: aumenta a velocidade da convergência\n",
    "\n",
    "Baixo: pode evitar mínimos locais\n",
    "<BR></BR>\n",
    "\n",
    "Utilidade da variavel \"Taxa de aprendizagem\" (learning rate)\n",
    "\n",
    "Define quão rápido o algoritmo vai aprender\n",
    "\n",
    "Alto: a convergência é rápida mas pode perde o mínimo global\n",
    "\n",
    "Baixo: será mais lento mas tem mais chances de chegar no mínimo global"
   ]
  },
  {
   "cell_type": "code",
   "execution_count": 101,
   "id": "57880297",
   "metadata": {},
   "outputs": [
    {
     "ename": "SyntaxError",
     "evalue": "incomplete input (2113301295.py, line 3)",
     "output_type": "error",
     "traceback": [
      "\u001b[1;36m  Cell \u001b[1;32mIn[101], line 3\u001b[1;36m\u001b[0m\n\u001b[1;33m    for j in range (rodadas_ajuste_peso):\u001b[0m\n\u001b[1;37m                                         ^\u001b[0m\n\u001b[1;31mSyntaxError\u001b[0m\u001b[1;31m:\u001b[0m incomplete input\n"
     ]
    }
   ],
   "source": [
    "rodadas_ajuste_peso=1\n",
    "\n",
    "for j in range (rodadas_ajuste_peso):"
   ]
  },
  {
   "attachments": {},
   "cell_type": "markdown",
   "id": "33c270c3",
   "metadata": {},
   "source": [
    "A variavel \"rodadas_ajuste_peso\" é o número de vezes que os pesos vão ser atualizados (reajustados), com objetivo de termos o menor erro na rede neuoral."
   ]
  },
  {
   "cell_type": "code",
   "execution_count": 102,
   "id": "55f191a2",
   "metadata": {},
   "outputs": [],
   "source": [
    "    camada_entrada = entradas\n",
    "    soma_sinapse1 = np.dot(camada_entrada, pesos_x1_x2)    "
   ]
  },
  {
   "cell_type": "code",
   "execution_count": 103,
   "id": "f45e3ca7",
   "metadata": {},
   "outputs": [
    {
     "data": {
      "text/plain": [
       "array([[ 0.   ,  0.   ,  0.   ],\n",
       "       [ 0.358, -0.577, -0.469],\n",
       "       [-0.424, -0.74 , -0.961],\n",
       "       [-0.066, -1.317, -1.43 ]])"
      ]
     },
     "execution_count": 103,
     "metadata": {},
     "output_type": "execute_result"
    }
   ],
   "source": [
    "    soma_sinapse1"
   ]
  },
  {
   "attachments": {},
   "cell_type": "markdown",
   "id": "46613ab5",
   "metadata": {},
   "source": [
    "A função dot da biblioteca numpy, recebe a camada de neurônios com seus repectivos pesos e faz o somatório dos produtos do valor da ativação (na camada de entrada será os dados de entrada x1/x2 e na camada oculta os valores de ativação do neurônio) com o peso (w) respectivo.\n",
    "\n",
    "Exemplo:\n",
    "\n",
    "(x1,x2): (0,0) -> neurônio 01\n",
    "\n",
    "x1 * w11 + x2 * w21 = somatório dos produtos para neuronio 01\n",
    "\n",
    "x1 * w12 + x2 * w22 = somatório dos produtos para neuronio 02\n",
    "\n",
    "x1 * w13 + x2 * w23 = somatório dos produtos para neuronio 03\n",
    "\n",
    "O mesmo processo é feito para: (0,1), (1,0) e (1,1)"
   ]
  },
  {
   "cell_type": "code",
   "execution_count": 104,
   "id": "9cf275f4",
   "metadata": {},
   "outputs": [],
   "source": [
    "    camada_oculta = sigmoid(soma_sinapse1)"
   ]
  },
  {
   "cell_type": "code",
   "execution_count": 105,
   "id": "f83a8693",
   "metadata": {},
   "outputs": [
    {
     "data": {
      "text/plain": [
       "array([[0.5       , 0.5       , 0.5       ],\n",
       "       [0.5885562 , 0.35962319, 0.38485296],\n",
       "       [0.39555998, 0.32300414, 0.27667802],\n",
       "       [0.48350599, 0.21131785, 0.19309868]])"
      ]
     },
     "execution_count": 105,
     "metadata": {},
     "output_type": "execute_result"
    }
   ],
   "source": [
    "    camada_oculta"
   ]
  },
  {
   "attachments": {},
   "cell_type": "markdown",
   "id": "150fdc76",
   "metadata": {},
   "source": [
    "Neste momento é utilizado a função sigmoide para gerar a camada oculta para cada registro: (0,0), (0,1), (1,0), (1,1)"
   ]
  },
  {
   "cell_type": "code",
   "execution_count": 106,
   "id": "51f1863a",
   "metadata": {},
   "outputs": [],
   "source": [
    "    soma_sinapse2 = np.dot(camada_oculta, pesos_neuronio_camada)    "
   ]
  },
  {
   "cell_type": "code",
   "execution_count": 107,
   "id": "aa068dcf",
   "metadata": {},
   "outputs": [
    {
     "data": {
      "text/plain": [
       "array([[-0.381     ],\n",
       "       [-0.27419072],\n",
       "       [-0.25421887],\n",
       "       [-0.16834784]])"
      ]
     },
     "execution_count": 107,
     "metadata": {},
     "output_type": "execute_result"
    }
   ],
   "source": [
    "    soma_sinapse2"
   ]
  },
  {
   "attachments": {},
   "cell_type": "markdown",
   "id": "f6dfa77f",
   "metadata": {},
   "source": [
    "A função dot da biblioteca numpy, recebe os neurônios da camada oculta com seus repectivos pesos (w) e faz o somatório dos produtos do valor da ativação (a) pelo peso (w).\n",
    "\n",
    "Exemplo:\n",
    "\n",
    "(0,0) -> neurônio de saída\n",
    "\n",
    "a1 * w1s + a2 * w2s + a3 * w3s  = somatório dos produtos para neuronio saida\n",
    "\n",
    "O mesmo processo é feito para: (0,1), (1,0) e (1,1)"
   ]
  },
  {
   "cell_type": "code",
   "execution_count": 108,
   "id": "289358cc",
   "metadata": {},
   "outputs": [],
   "source": [
    "    camada_saida = sigmoid(soma_sinapse2)"
   ]
  },
  {
   "cell_type": "code",
   "execution_count": 109,
   "id": "9ac892bb",
   "metadata": {},
   "outputs": [
    {
     "data": {
      "text/plain": [
       "array([[0.40588573],\n",
       "       [0.43187857],\n",
       "       [0.43678536],\n",
       "       [0.45801216]])"
      ]
     },
     "execution_count": 109,
     "metadata": {},
     "output_type": "execute_result"
    }
   ],
   "source": [
    "    camada_saida"
   ]
  },
  {
   "attachments": {},
   "cell_type": "markdown",
   "id": "3a39969f",
   "metadata": {},
   "source": [
    "Neste momento é utilizado a função sigmoide para gerar o valor de ativação (a) do neurôni de saída para cada registro: (0,0), (0,1), (1,0), (1,1)"
   ]
  },
  {
   "cell_type": "code",
   "execution_count": 110,
   "id": "a481f5c5",
   "metadata": {},
   "outputs": [],
   "source": [
    "    erro = respostas_esperadas - camada_saida"
   ]
  },
  {
   "cell_type": "code",
   "execution_count": 111,
   "id": "c92fad2c",
   "metadata": {},
   "outputs": [
    {
     "data": {
      "text/plain": [
       "array([[-0.40588573],\n",
       "       [ 0.56812143],\n",
       "       [ 0.56321464],\n",
       "       [-0.45801216]])"
      ]
     },
     "execution_count": 111,
     "metadata": {},
     "output_type": "execute_result"
    }
   ],
   "source": [
    "    erro"
   ]
  },
  {
   "cell_type": "code",
   "execution_count": 112,
   "id": "fa700628",
   "metadata": {},
   "outputs": [
    {
     "data": {
      "text/plain": [
       "array([[0],\n",
       "       [1],\n",
       "       [1],\n",
       "       [0]])"
      ]
     },
     "execution_count": 112,
     "metadata": {},
     "output_type": "execute_result"
    }
   ],
   "source": [
    "    respostas_esperadas"
   ]
  },
  {
   "attachments": {},
   "cell_type": "markdown",
   "id": "b298c4e7",
   "metadata": {},
   "source": [
    "A variavel erro como o proprio nome diz armazena o erro de todos os registro (0,0), (0,1), (1,0), (1,1).\n",
    "\n",
    "É feito a subtração dos valores esperados com os valores encontrados da camada de saída (valor de ativação do neurônio) "
   ]
  },
  {
   "cell_type": "code",
   "execution_count": 113,
   "id": "ac6c4f4b",
   "metadata": {},
   "outputs": [],
   "source": [
    "    media_erro_absoluto = np.mean(np.abs(erro))"
   ]
  },
  {
   "cell_type": "code",
   "execution_count": 114,
   "id": "7349ca55",
   "metadata": {},
   "outputs": [
    {
     "name": "stdout",
     "output_type": "stream",
     "text": [
      "Erro : 0.49880848923713045\n"
     ]
    }
   ],
   "source": [
    "    print('Erro : '+ str(media_erro_absoluto))"
   ]
  },
  {
   "cell_type": "code",
   "execution_count": 115,
   "id": "988d3235",
   "metadata": {},
   "outputs": [
    {
     "data": {
      "text/plain": [
       "0.49880848923713045"
      ]
     },
     "execution_count": 115,
     "metadata": {},
     "output_type": "execute_result"
    }
   ],
   "source": [
    "    media_erro_absoluto "
   ]
  },
  {
   "attachments": {},
   "cell_type": "markdown",
   "id": "2f63461a",
   "metadata": {},
   "source": [
    "Neste momento fazemos a média dos erros desconsiderando o valor negativo dos erros e armazenamos na variavel \"media_erro_absoluto\"\n",
    "\n",
    "A função abs nos da o valor absoluto (valor do algarismo, independentemente do lugar que ocupa).\n",
    "\n",
    "A função mean nos da a média.\n",
    "\n",
    "Quando falamos que a média do erro na rede neuoral é igual é 0,49 (media_erro_absoluto) estamos dizendo que nossa rede tem 49% de erro e 51% de precisão (resultado para uma rodada). É preciso ser feito mais rodadas de ajustes de pesos para que a média dos erros seja a menor possivel."
   ]
  },
  {
   "cell_type": "code",
   "execution_count": 116,
   "id": "3a3ce91d",
   "metadata": {},
   "outputs": [],
   "source": [
    "    derivada_saida = derivadaParcial(camada_saida)\n",
    "\n",
    "    delta_saida = erro * derivada_saida"
   ]
  },
  {
   "cell_type": "raw",
   "id": "6b9bc72a",
   "metadata": {},
   "source": [
    "Neste momento vamos fazer o \"gradient descent\" que é umas das metodologias utilizadas para obter o melhor conjunto de pesos para nossa rede neuoral e assim atigir o menor erro possivel (mínimo global).\n",
    "\n",
    "Para isso é preciso calcular as derivadas parciais e o delta para cada neurônio (o processo é feito de trás para frete)\n",
    "\n",
    "Como pode ser observado acima estamos calculando primeiro a derivada e o delta da camada de saída.\n",
    "\n",
    "A formula da função derivadaPercial é dada por:\n",
    "\n",
    "derivada: d = y * (1 - y), onde y (sigmoide) é o valor de ativação do neurônio.\n",
    "\n",
    "A formula do delta para a camada de saída é dada por:\n",
    "\n",
    "delta = erro * deriva parcial da saída"
   ]
  },
  {
   "cell_type": "code",
   "execution_count": 117,
   "id": "9a4e4634",
   "metadata": {},
   "outputs": [
    {
     "data": {
      "text/plain": [
       "array([[0.40588573],\n",
       "       [0.43187857],\n",
       "       [0.43678536],\n",
       "       [0.45801216]])"
      ]
     },
     "execution_count": 117,
     "metadata": {},
     "output_type": "execute_result"
    }
   ],
   "source": [
    "    camada_saida"
   ]
  },
  {
   "cell_type": "code",
   "execution_count": 118,
   "id": "b15ed97b",
   "metadata": {},
   "outputs": [
    {
     "data": {
      "text/plain": [
       "array([[0.2411425 ],\n",
       "       [0.24535947],\n",
       "       [0.24600391],\n",
       "       [0.24823702]])"
      ]
     },
     "execution_count": 118,
     "metadata": {},
     "output_type": "execute_result"
    }
   ],
   "source": [
    "    derivada_saida"
   ]
  },
  {
   "cell_type": "code",
   "execution_count": 119,
   "id": "f1bcc78e",
   "metadata": {},
   "outputs": [
    {
     "data": {
      "text/plain": [
       "array([[-0.0978763 ],\n",
       "       [ 0.13939397],\n",
       "       [ 0.138553  ],\n",
       "       [-0.11369557]])"
      ]
     },
     "execution_count": 119,
     "metadata": {},
     "output_type": "execute_result"
    }
   ],
   "source": [
    "    delta_saida"
   ]
  },
  {
   "attachments": {},
   "cell_type": "markdown",
   "id": "6f30ed3c",
   "metadata": {},
   "source": [
    "A formala para calcular o delta na camada oculta é diferente, do que foi feito na camada de saída.\n",
    "\n",
    "fórmula:\n",
    "\n",
    "Delta da camada oculta  = valor de ativação do neurônio * peso (da camada oculta para a camada de saída) * delta de saída \n",
    "\n",
    "Para podemos fazer a multiplicação do peso com delta de saida é preciso primeiro gerar a matriz transporta da variavel \"pesos_neuronio_camada\"(matriz).\n",
    "\n",
    "obs: Define-se como matriz transposta uma matriz qualquer resultante da troca ordenada das linhas pelas colunas de uma matriz chamada de original."
   ]
  },
  {
   "cell_type": "code",
   "execution_count": 120,
   "id": "30f50d97",
   "metadata": {},
   "outputs": [],
   "source": [
    "    matriz_transposta_pesos_neuronio_camada = pesos_neuronio_camada.T"
   ]
  },
  {
   "cell_type": "code",
   "execution_count": 121,
   "id": "cd9d3cea",
   "metadata": {
    "scrolled": true
   },
   "outputs": [
    {
     "data": {
      "text/plain": [
       "array([[-0.017],\n",
       "       [-0.893],\n",
       "       [ 0.148]])"
      ]
     },
     "execution_count": 121,
     "metadata": {},
     "output_type": "execute_result"
    }
   ],
   "source": [
    "    pesos_neuronio_camada"
   ]
  },
  {
   "cell_type": "code",
   "execution_count": 122,
   "id": "b6bd2dc8",
   "metadata": {},
   "outputs": [
    {
     "data": {
      "text/plain": [
       "array([[-0.017, -0.893,  0.148]])"
      ]
     },
     "execution_count": 122,
     "metadata": {},
     "output_type": "execute_result"
    }
   ],
   "source": [
    "    matriz_transposta_pesos_neuronio_camada"
   ]
  },
  {
   "attachments": {},
   "cell_type": "markdown",
   "id": "1d6c563b",
   "metadata": {},
   "source": [
    "após gerar a matriz transposta (variavel \"matriz_transposta_pesos_neuronio_camada\") podemos fazer a multiplicação com delta de saida ( variavel \"delta_saida\")."
   ]
  },
  {
   "cell_type": "code",
   "execution_count": 123,
   "id": "0a9d1836",
   "metadata": {},
   "outputs": [],
   "source": [
    "    deltaSaida_X_Peso = delta_saida.dot( matriz_transposta_pesos_neuronio_camada)"
   ]
  },
  {
   "cell_type": "code",
   "execution_count": 124,
   "id": "95ae69b3",
   "metadata": {},
   "outputs": [
    {
     "data": {
      "text/plain": [
       "array([[ 0.0016639 ,  0.08740354, -0.01448569],\n",
       "       [-0.0023697 , -0.12447882,  0.02063031],\n",
       "       [-0.0023554 , -0.12372783,  0.02050584],\n",
       "       [ 0.00193282,  0.10153015, -0.01682694]])"
      ]
     },
     "execution_count": 124,
     "metadata": {},
     "output_type": "execute_result"
    }
   ],
   "source": [
    "    deltaSaida_X_Peso"
   ]
  },
  {
   "cell_type": "code",
   "execution_count": 125,
   "id": "f5de5455",
   "metadata": {},
   "outputs": [],
   "source": [
    "    delta_oculta = deltaSaida_X_Peso *  derivadaParcial(camada_oculta)"
   ]
  },
  {
   "cell_type": "code",
   "execution_count": 126,
   "id": "43014c1e",
   "metadata": {},
   "outputs": [
    {
     "data": {
      "text/plain": [
       "array([[ 0.00041597,  0.02185088, -0.00362142],\n",
       "       [-0.00057384, -0.02866677,  0.00488404],\n",
       "       [-0.00056316, -0.02705587,  0.00410378],\n",
       "       [ 0.00048268,  0.01692128, -0.00262183]])"
      ]
     },
     "execution_count": 126,
     "metadata": {},
     "output_type": "execute_result"
    }
   ],
   "source": [
    "    delta_oculta"
   ]
  },
  {
   "attachments": {},
   "cell_type": "markdown",
   "id": "a375666c",
   "metadata": {},
   "source": [
    "Após acharmos o produto (deltaSaida_X_Peso) do peso (da camada oculta para a camada de saída) pelo delta de saída, multiplicamos o resultado pela derivada parcial do valor de ativação do neurônio da camada oculta (sigmoide).\n",
    "  \n",
    "Fórmula:\n",
    "Delta da camada oculta  = valor de ativação do neurônio * peso (da camada oculta para a camada de saída) * delta de saída \n",
    "\n",
    "-----------------------------------------------------------------------------------------------------------------------------\n",
    "\n",
    "Calculada os deltas e tendo os valores de ativação dos neurônios da camada oculta e camada de saida é possivel agora fazer o ajustes dos pesos, seguindo a formula abaixo:\n",
    "\n",
    "novo peso = ( peso atual ∗ 𝑚𝑜𝑚𝑒𝑛𝑡𝑜 ) + ( ed ∗ 𝑡𝑎𝑥𝑎 𝑑𝑒 𝑎𝑝𝑟𝑒𝑛𝑑𝑖𝑧𝑎𝑔𝑒𝑚)\n",
    "\n",
    "\"ed\" é dados pela fórmula:\n",
    "\n",
    "ed = 𝑒𝑛𝑡𝑟𝑎𝑑𝑎 ∗ 𝑑𝑒𝑙𝑡𝑎\n",
    "\n",
    "A variavel \"entrada\" e \"delta\" é respectivamente o valor de ativação e o delta que achamaos para cada neurônio da camada oculta e camada de saída.\n",
    "\n",
    "Utilidade da variavel \"momento\":\n",
    "\n",
    "Escapar de mínimos locais (nem sempre funciona)\n",
    "\n",
    "Define o quão confiável é a última alteração\n",
    "\n",
    "Alto: aumenta a velocidade da convergência\n",
    "\n",
    "Baixo: pode evitar mínimos locais\n",
    "\n",
    "Utilidade da variavel \"Taxa de aprendizagem\" (learning rate)\n",
    "\n",
    "Define quão rápido o algoritmo vai aprender\n",
    "\n",
    "Alto: a convergência é rápida mas pode perde o mínimo global\n",
    "\n",
    "Baixo: será mais lento mas tem mais chances de chegar no mínimo global\n",
    "\n",
    "-------------------------------------------------------------------------------------------\n",
    "\n",
    "Os pesos serão ajustado seguindo a ordem abaixo (backpropagation):\n",
    "\n",
    "1° pesos ajustados -> pesos da camada oculta para a camada de saída.\n",
    "\n",
    "2° pesos ajustados -> pesos da camada de entrada para a camada de saída.\n"
   ]
  },
  {
   "attachments": {},
   "cell_type": "markdown",
   "id": "3d2e5c70",
   "metadata": {},
   "source": [
    "Para calcularmos: ed = 𝑒𝑛𝑡𝑟𝑎𝑑𝑎 ∗ 𝑑𝑒𝑙𝑡𝑎\n",
    "\n",
    "Somatório dos produtos entre \"dados de entrada\" (camada oculta = valor de ativação | camada de entrada = dados de entrada)  com o delta dos respectivos neurônias de resgistro: (0,0), (0,1), (1,0) e (1,1). Para isso é preciso ser feito a matriz trasposta da camada."
   ]
  },
  {
   "cell_type": "code",
   "execution_count": 127,
   "id": "137806f7",
   "metadata": {},
   "outputs": [
    {
     "data": {
      "text/plain": [
       "array([[0.5       , 0.5       , 0.5       ],\n",
       "       [0.5885562 , 0.35962319, 0.38485296],\n",
       "       [0.39555998, 0.32300414, 0.27667802],\n",
       "       [0.48350599, 0.21131785, 0.19309868]])"
      ]
     },
     "execution_count": 127,
     "metadata": {},
     "output_type": "execute_result"
    }
   ],
   "source": [
    "    camada_oculta"
   ]
  },
  {
   "attachments": {},
   "cell_type": "markdown",
   "id": "42e7a995",
   "metadata": {},
   "source": [
    "Na variavel \"camada_oculta\" temos:\n",
    "\n",
    "linha 1 = neurônio 01, 02 e 03 com seus respecitivos valores de ativação para o registro (0,0)\n",
    "\n",
    "linha 2 = neurônio 01, 02 e 03 com seus respecitivos valores de ativação para o registro (0,1)\n",
    "\n",
    "linha 3 = neurônio 01, 02 e 03 com seus respecitivos valores de ativação para o registro (1,0)\n",
    "\n",
    "linha 4 = neurônio 01, 02 e 03 com seus respecitivos valores de ativação para o registro (1,1)"
   ]
  },
  {
   "cell_type": "code",
   "execution_count": 128,
   "id": "9890f268",
   "metadata": {},
   "outputs": [],
   "source": [
    "    camada_oculta_transposta = camada_oculta.T"
   ]
  },
  {
   "attachments": {},
   "cell_type": "markdown",
   "id": "b2605162",
   "metadata": {},
   "source": [
    "A variavel \"camada_oculta_transposta\" recebe a matriz transposta da variavel \"camada_oculta\"."
   ]
  },
  {
   "cell_type": "code",
   "execution_count": 129,
   "id": "9245d3c4",
   "metadata": {},
   "outputs": [
    {
     "data": {
      "text/plain": [
       "array([[0.5       , 0.5885562 , 0.39555998, 0.48350599],\n",
       "       [0.5       , 0.35962319, 0.32300414, 0.21131785],\n",
       "       [0.5       , 0.38485296, 0.27667802, 0.19309868]])"
      ]
     },
     "execution_count": 129,
     "metadata": {},
     "output_type": "execute_result"
    }
   ],
   "source": [
    "    camada_oculta_transposta"
   ]
  },
  {
   "attachments": {},
   "cell_type": "markdown",
   "id": "9d623ac3",
   "metadata": {},
   "source": [
    "Na matriz \"camada_oculta_transposta\" temos:\n",
    "\n",
    "na linha 1 = são os neurônios 01 de cada resgistro (0,0), (0,1), (1,0) e (1,1).\n",
    "\n",
    "na linha 2 = são os neurônios 02 de cada resgistro (0,0), (0,1), (1,0) e (1,1).\n",
    "\n",
    "na linha 3 = são os neurônios 03 de cada resgistro (0,0), (0,1), (1,0) e (1,1).\n",
    "\n",
    "É feito um agrupamento dos neurônios."
   ]
  },
  {
   "cell_type": "code",
   "execution_count": 140,
   "id": "767a2ebb",
   "metadata": {},
   "outputs": [
    {
     "data": {
      "text/plain": [
       "array([[-0.0978763 ],\n",
       "       [ 0.13939397],\n",
       "       [ 0.138553  ],\n",
       "       [-0.11369557]])"
      ]
     },
     "execution_count": 140,
     "metadata": {},
     "output_type": "execute_result"
    }
   ],
   "source": [
    "delta_saida"
   ]
  },
  {
   "cell_type": "code",
   "execution_count": 130,
   "id": "6533b020",
   "metadata": {},
   "outputs": [],
   "source": [
    "    novo_peso_saida = camada_oculta_transposta.dot(delta_saida)"
   ]
  },
  {
   "cell_type": "code",
   "execution_count": 131,
   "id": "68513d2c",
   "metadata": {},
   "outputs": [],
   "source": [
    "    pesos_neuronio_camada = (pesos_neuronio_camada * momento) + (novo_peso_saida * taxa_aprendizagem )"
   ]
  },
  {
   "cell_type": "code",
   "execution_count": 132,
   "id": "effd6560",
   "metadata": {},
   "outputs": [
    {
     "data": {
      "text/plain": [
       "array([[-0.00711903],\n",
       "       [-0.88642447],\n",
       "       [ 0.15432644]])"
      ]
     },
     "execution_count": 132,
     "metadata": {},
     "output_type": "execute_result"
    }
   ],
   "source": [
    "    pesos_neuronio_camada"
   ]
  },
  {
   "cell_type": "code",
   "execution_count": 133,
   "id": "7d5cae07",
   "metadata": {},
   "outputs": [
    {
     "data": {
      "text/plain": [
       "array([[0, 0],\n",
       "       [0, 1],\n",
       "       [1, 0],\n",
       "       [1, 1]])"
      ]
     },
     "execution_count": 133,
     "metadata": {},
     "output_type": "execute_result"
    }
   ],
   "source": [
    "    entradas"
   ]
  },
  {
   "attachments": {},
   "cell_type": "markdown",
   "id": "e5de0d4d",
   "metadata": {},
   "source": [
    "A variavel \"entradas\" (matriz) contém os dados de entrada \"x1\" e \"x2\". A variaval \"resposta_esperada\" (matriz) é valor da \"classe\" para determinado dado de entrada \"x1\" e \"x2\".\n",
    "\n",
    "|x1 x2| -> classe\n",
    "| 0 0 | -> 0\n",
    "| 0 1 | -> 1\n",
    "| 1 0 | -> 1\n",
    "| 1 1 | -> 0"
   ]
  },
  {
   "cell_type": "code",
   "execution_count": 134,
   "id": "2ed9ba72",
   "metadata": {},
   "outputs": [],
   "source": [
    "    camada_entrada_transposta = entradas.T"
   ]
  },
  {
   "cell_type": "code",
   "execution_count": 135,
   "id": "7e922c26",
   "metadata": {},
   "outputs": [
    {
     "data": {
      "text/plain": [
       "array([[0, 0, 1, 1],\n",
       "       [0, 1, 0, 1]])"
      ]
     },
     "execution_count": 135,
     "metadata": {},
     "output_type": "execute_result"
    }
   ],
   "source": [
    "    camada_entrada_transposta"
   ]
  },
  {
   "attachments": {},
   "cell_type": "markdown",
   "id": "f7f45a89",
   "metadata": {},
   "source": [
    "Na matriz \"camada_entrada_transposta\" temos:\n",
    "\n",
    "na linha 1 = são os x1 dos resgistros de entrada: (0,0), (0,1), (1,0) e (1,1).\n",
    "\n",
    "na linha 2 = são os x2 dos resgistros de entrada: (0,0), (0,1), (1,0) e (1,1)."
   ]
  },
  {
   "cell_type": "code",
   "execution_count": 139,
   "id": "64278fdf",
   "metadata": {},
   "outputs": [
    {
     "data": {
      "text/plain": [
       "array([[ 0.00041597,  0.02185088, -0.00362142],\n",
       "       [-0.00057384, -0.02866677,  0.00488404],\n",
       "       [-0.00056316, -0.02705587,  0.00410378],\n",
       "       [ 0.00048268,  0.01692128, -0.00262183]])"
      ]
     },
     "execution_count": 139,
     "metadata": {},
     "output_type": "execute_result"
    }
   ],
   "source": [
    "delta_oculta"
   ]
  },
  {
   "cell_type": "code",
   "execution_count": 136,
   "id": "429a9014",
   "metadata": {},
   "outputs": [],
   "source": [
    "    novo_peso_entrada = camada_entrada_transposta.dot(delta_oculta)"
   ]
  },
  {
   "cell_type": "code",
   "execution_count": 137,
   "id": "b6cb9d33",
   "metadata": {},
   "outputs": [],
   "source": [
    "    pesos_x1_x2 = (pesos_x1_x2 * momento) + (novo_peso_entrada * taxa_aprendizagem )"
   ]
  },
  {
   "cell_type": "code",
   "execution_count": 138,
   "id": "63e94579",
   "metadata": {
    "scrolled": true
   },
   "outputs": [
    {
     "data": {
      "text/plain": [
       "array([[-0.42402414, -0.74304038, -0.96055542],\n",
       "       [ 0.35797265, -0.58052365, -0.46832134]])"
      ]
     },
     "execution_count": 138,
     "metadata": {},
     "output_type": "execute_result"
    }
   ],
   "source": [
    "    pesos_x1_x2 "
   ]
  }
 ],
 "metadata": {
  "kernelspec": {
   "display_name": "Python 3 (ipykernel)",
   "language": "python",
   "name": "python3"
  },
  "language_info": {
   "codemirror_mode": {
    "name": "ipython",
    "version": 3
   },
   "file_extension": ".py",
   "mimetype": "text/x-python",
   "name": "python",
   "nbconvert_exporter": "python",
   "pygments_lexer": "ipython3",
   "version": "3.11.2"
  }
 },
 "nbformat": 4,
 "nbformat_minor": 5
}
